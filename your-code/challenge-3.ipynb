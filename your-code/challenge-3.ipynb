{
 "cells": [
  {
   "cell_type": "markdown",
   "id": "defensive-clock",
   "metadata": {},
   "source": [
    "# Challenge 3: Hidden Cold Joke\n",
    "\n",
    "Using Python, call Github API to find out the cold joke contained in the 24 secret files in the following repo:\n",
    "\n",
    "https://github.com/ironhack-datalabs/scavenger\n",
    "\n",
    "The filenames of the secret files contain .scavengerhunt and they are scattered in different directories of this repo. The secret files are named from .0001.scavengerhunt to .0024.scavengerhunt. They are scattered randomly throughout this repo. You need to search for these files by calling the Github API, not searching the local files on your computer.\n",
    "\n",
    "\n",
    "After you find out the secrete files:\n",
    "\n",
    "Sort the filenames ascendingly.\n",
    "\n",
    "Read the content of each secret files into an array of strings.\n",
    "\n",
    "Concatenate the strings in the array separating each two with a whitespace.\n",
    "\n",
    "Print out the joke."
   ]
  },
  {
   "cell_type": "markdown",
   "id": "universal-length",
   "metadata": {},
   "source": [
    "⚠️ **Remember to limit your output before submission**."
   ]
  },
  {
   "cell_type": "code",
   "execution_count": 6,
   "id": "8cd8c1fc",
   "metadata": {},
   "outputs": [
    {
     "data": {
      "text/plain": [
       "True"
      ]
     },
     "execution_count": 6,
     "metadata": {},
     "output_type": "execute_result"
    }
   ],
   "source": [
    "import json\n",
    "import requests\n",
    "import os\n",
    "from dotenv import load_dotenv\n",
    "load_dotenv()"
   ]
  },
  {
   "cell_type": "code",
   "execution_count": 7,
   "id": "static-stopping",
   "metadata": {},
   "outputs": [],
   "source": [
    "my_key = open(\"./my_key.rtf\").readlines()[0].rstrip()"
   ]
  },
  {
   "cell_type": "code",
   "execution_count": 8,
   "id": "84e07b87",
   "metadata": {},
   "outputs": [],
   "source": [
    "params = {\"Authorization\": f\"token{my_key}\"}"
   ]
  },
  {
   "cell_type": "code",
   "execution_count": 9,
   "id": "00e26214",
   "metadata": {},
   "outputs": [],
   "source": [
    "url = \"https://api.github.com/repos/ironhack-datalabs/scavenger/contents\""
   ]
  },
  {
   "cell_type": "code",
   "execution_count": 10,
   "id": "2a9d5c52",
   "metadata": {},
   "outputs": [],
   "source": [
    "response = requests.get(url,headers=params)"
   ]
  },
  {
   "cell_type": "code",
   "execution_count": 11,
   "id": "52122f51",
   "metadata": {},
   "outputs": [
    {
     "data": {
      "text/plain": [
       "200"
      ]
     },
     "execution_count": 11,
     "metadata": {},
     "output_type": "execute_result"
    }
   ],
   "source": [
    "response.status_code"
   ]
  },
  {
   "cell_type": "code",
   "execution_count": 12,
   "id": "5e99a352",
   "metadata": {},
   "outputs": [],
   "source": [
    "#Challenge3"
   ]
  },
  {
   "cell_type": "code",
   "execution_count": 13,
   "id": "6e3051dd",
   "metadata": {},
   "outputs": [],
   "source": [
    "data = response.json()"
   ]
  },
  {
   "cell_type": "code",
   "execution_count": 18,
   "id": "a287b484",
   "metadata": {},
   "outputs": [
    {
     "data": {
      "text/plain": [
       "[{'name': '.gitignore',\n",
       "  'path': '.gitignore',\n",
       "  'sha': 'e43b0f988953ae3a84b00331d0ccf5f7d51cb3cf',\n",
       "  'size': 10,\n",
       "  'url': 'https://api.github.com/repos/ironhack-datalabs/scavenger/contents/.gitignore?ref=master',\n",
       "  'html_url': 'https://github.com/ironhack-datalabs/scavenger/blob/master/.gitignore',\n",
       "  'git_url': 'https://api.github.com/repos/ironhack-datalabs/scavenger/git/blobs/e43b0f988953ae3a84b00331d0ccf5f7d51cb3cf',\n",
       "  'download_url': 'https://raw.githubusercontent.com/ironhack-datalabs/scavenger/master/.gitignore',\n",
       "  'type': 'file',\n",
       "  '_links': {'self': 'https://api.github.com/repos/ironhack-datalabs/scavenger/contents/.gitignore?ref=master',\n",
       "   'git': 'https://api.github.com/repos/ironhack-datalabs/scavenger/git/blobs/e43b0f988953ae3a84b00331d0ccf5f7d51cb3cf',\n",
       "   'html': 'https://github.com/ironhack-datalabs/scavenger/blob/master/.gitignore'}},\n",
       " {'name': '15024',\n",
       "  'path': '15024',\n",
       "  'sha': '2945e51c87ad5da893c954afcf092f06343bbb7d',\n",
       "  'size': 0,\n",
       "  'url': 'https://api.github.com/repos/ironhack-datalabs/scavenger/contents/15024?ref=master',\n",
       "  'html_url': 'https://github.com/ironhack-datalabs/scavenger/tree/master/15024',\n",
       "  'git_url': 'https://api.github.com/repos/ironhack-datalabs/scavenger/git/trees/2945e51c87ad5da893c954afcf092f06343bbb7d',\n",
       "  'download_url': None,\n",
       "  'type': 'dir',\n",
       "  '_links': {'self': 'https://api.github.com/repos/ironhack-datalabs/scavenger/contents/15024?ref=master',\n",
       "   'git': 'https://api.github.com/repos/ironhack-datalabs/scavenger/git/trees/2945e51c87ad5da893c954afcf092f06343bbb7d',\n",
       "   'html': 'https://github.com/ironhack-datalabs/scavenger/tree/master/15024'}}]"
      ]
     },
     "execution_count": 18,
     "metadata": {},
     "output_type": "execute_result"
    }
   ],
   "source": [
    "data[:2]"
   ]
  },
  {
   "cell_type": "code",
   "execution_count": 19,
   "id": "cff50ac9",
   "metadata": {},
   "outputs": [
    {
     "data": {
      "text/plain": [
       "26"
      ]
     },
     "execution_count": 19,
     "metadata": {},
     "output_type": "execute_result"
    }
   ],
   "source": [
    "len(data)"
   ]
  },
  {
   "cell_type": "code",
   "execution_count": 21,
   "id": "85240679",
   "metadata": {},
   "outputs": [],
   "source": [
    "carpeta = []"
   ]
  },
  {
   "cell_type": "code",
   "execution_count": 22,
   "id": "de9cf39a",
   "metadata": {},
   "outputs": [
    {
     "name": "stdout",
     "output_type": "stream",
     "text": [
      "['.gitignore', '15024', '15534', '17020', '30351', '40303', '44639', '45525', '47222', '47830', '49418', '50896', '55417', '55685', '60224', '64880', '66032', '68848', '70751', '70985', '88596', '89046', '89338', '91701', '97881', '98750']\n"
     ]
    }
   ],
   "source": [
    "for f in range(26):\n",
    "    carpeta.append(data[f].get(\"path\"))\n",
    "print(carpeta)"
   ]
  },
  {
   "cell_type": "code",
   "execution_count": 23,
   "id": "74e97ce9",
   "metadata": {},
   "outputs": [],
   "source": [
    "#Como no quiero que me coja el gitignore reestablezco el rango"
   ]
  },
  {
   "cell_type": "code",
   "execution_count": 24,
   "id": "6010d182",
   "metadata": {},
   "outputs": [
    {
     "name": "stdout",
     "output_type": "stream",
     "text": [
      "['15024', '15534', '17020', '30351', '40303', '44639', '45525', '47222', '47830', '49418', '50896', '55417', '55685', '60224', '64880', '66032', '68848', '70751', '70985', '88596', '89046', '89338', '91701', '97881', '98750']\n"
     ]
    }
   ],
   "source": [
    "carpeta2 = []\n",
    "for f in range(1,26):\n",
    "    carpeta2.append(data[f].get(\"path\"))\n",
    "print(carpeta2)"
   ]
  },
  {
   "cell_type": "code",
   "execution_count": 26,
   "id": "0bc0e984",
   "metadata": {},
   "outputs": [
    {
     "name": "stdout",
     "output_type": "stream",
     "text": [
      "['https://api.github.com/repos/ironhack-datalabs/scavenger/contents/15024?ref=master', 'https://api.github.com/repos/ironhack-datalabs/scavenger/contents/15534?ref=master', 'https://api.github.com/repos/ironhack-datalabs/scavenger/contents/17020?ref=master', 'https://api.github.com/repos/ironhack-datalabs/scavenger/contents/30351?ref=master', 'https://api.github.com/repos/ironhack-datalabs/scavenger/contents/40303?ref=master', 'https://api.github.com/repos/ironhack-datalabs/scavenger/contents/44639?ref=master', 'https://api.github.com/repos/ironhack-datalabs/scavenger/contents/45525?ref=master', 'https://api.github.com/repos/ironhack-datalabs/scavenger/contents/47222?ref=master', 'https://api.github.com/repos/ironhack-datalabs/scavenger/contents/47830?ref=master', 'https://api.github.com/repos/ironhack-datalabs/scavenger/contents/49418?ref=master', 'https://api.github.com/repos/ironhack-datalabs/scavenger/contents/50896?ref=master', 'https://api.github.com/repos/ironhack-datalabs/scavenger/contents/55417?ref=master', 'https://api.github.com/repos/ironhack-datalabs/scavenger/contents/55685?ref=master', 'https://api.github.com/repos/ironhack-datalabs/scavenger/contents/60224?ref=master', 'https://api.github.com/repos/ironhack-datalabs/scavenger/contents/64880?ref=master', 'https://api.github.com/repos/ironhack-datalabs/scavenger/contents/66032?ref=master', 'https://api.github.com/repos/ironhack-datalabs/scavenger/contents/68848?ref=master', 'https://api.github.com/repos/ironhack-datalabs/scavenger/contents/70751?ref=master', 'https://api.github.com/repos/ironhack-datalabs/scavenger/contents/70985?ref=master', 'https://api.github.com/repos/ironhack-datalabs/scavenger/contents/88596?ref=master', 'https://api.github.com/repos/ironhack-datalabs/scavenger/contents/89046?ref=master', 'https://api.github.com/repos/ironhack-datalabs/scavenger/contents/89338?ref=master', 'https://api.github.com/repos/ironhack-datalabs/scavenger/contents/91701?ref=master', 'https://api.github.com/repos/ironhack-datalabs/scavenger/contents/97881?ref=master', 'https://api.github.com/repos/ironhack-datalabs/scavenger/contents/98750?ref=master']\n"
     ]
    }
   ],
   "source": [
    "carpeta3 = []\n",
    "for f in range(1,26):\n",
    "    carpeta3.append(data[f].get(\"url\"))\n",
    "print(carpeta3)"
   ]
  },
  {
   "cell_type": "code",
   "execution_count": 28,
   "id": "774d7317",
   "metadata": {},
   "outputs": [
    {
     "name": "stdout",
     "output_type": "stream",
     "text": [
      "[]\n"
     ]
    }
   ],
   "source": [
    "carpeta5 = []\n",
    "for s in range(1,26):\n",
    "    if \"scavengerhunt\" in data:\n",
    "        carpeta5.append(s)\n",
    "print(carpeta5)"
   ]
  },
  {
   "cell_type": "code",
   "execution_count": null,
   "id": "b5a165de",
   "metadata": {},
   "outputs": [],
   "source": []
  }
 ],
 "metadata": {
  "kernelspec": {
   "display_name": "OLAYA1",
   "language": "python",
   "name": "olaya1"
  },
  "language_info": {
   "codemirror_mode": {
    "name": "ipython",
    "version": 3
   },
   "file_extension": ".py",
   "mimetype": "text/x-python",
   "name": "python",
   "nbconvert_exporter": "python",
   "pygments_lexer": "ipython3",
   "version": "3.8.5"
  },
  "toc": {
   "base_numbering": 1,
   "nav_menu": {},
   "number_sections": true,
   "sideBar": true,
   "skip_h1_title": true,
   "title_cell": "Table of Contents",
   "title_sidebar": "Contents",
   "toc_cell": false,
   "toc_position": {},
   "toc_section_display": true,
   "toc_window_display": true
  }
 },
 "nbformat": 4,
 "nbformat_minor": 5
}
