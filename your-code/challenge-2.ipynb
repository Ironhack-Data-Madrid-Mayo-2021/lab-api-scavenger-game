{
 "cells": [
  {
   "cell_type": "markdown",
   "id": "threaded-asbestos",
   "metadata": {},
   "source": [
    "# Challenge 2: Count Commits\n",
    "\n",
    "Count how many commits were made in the past week.\n",
    "\n",
    "Obtain all the commits made in the past week via API, which is a JSON array that contains multiple commit objects.\n",
    "\n",
    "Count how many commit objects are contained in the array."
   ]
  },
  {
   "cell_type": "markdown",
   "id": "norwegian-praise",
   "metadata": {},
   "source": [
    "⚠️ **Remember to limit your output before submission**."
   ]
  },
  {
   "cell_type": "code",
   "execution_count": 2,
   "id": "41803c2c",
   "metadata": {},
   "outputs": [
    {
     "data": {
      "text/plain": [
       "True"
      ]
     },
     "execution_count": 2,
     "metadata": {},
     "output_type": "execute_result"
    }
   ],
   "source": [
    "import json\n",
    "import requests\n",
    "import os\n",
    "from dotenv import load_dotenv\n",
    "load_dotenv()"
   ]
  },
  {
   "cell_type": "code",
   "execution_count": 3,
   "id": "ongoing-taylor",
   "metadata": {},
   "outputs": [],
   "source": [
    "my_key = open(\"./my_key.rtf\").readlines()[0].rstrip()"
   ]
  },
  {
   "cell_type": "code",
   "execution_count": 4,
   "id": "e6bb3d23",
   "metadata": {},
   "outputs": [],
   "source": [
    "params = {\"Authorization\": f\"token{my_key}\"}"
   ]
  },
  {
   "cell_type": "code",
   "execution_count": 5,
   "id": "435d333e",
   "metadata": {},
   "outputs": [],
   "source": [
    "url = \"https://api.github.com/repos/Ironhack-Data-Madrid-Mayo-2021/Classroom-materials/commits\""
   ]
  },
  {
   "cell_type": "code",
   "execution_count": 6,
   "id": "6632ea31",
   "metadata": {},
   "outputs": [],
   "source": [
    "response = requests.get(url,headers=params)"
   ]
  },
  {
   "cell_type": "code",
   "execution_count": 7,
   "id": "3daaf072",
   "metadata": {},
   "outputs": [
    {
     "data": {
      "text/plain": [
       "200"
      ]
     },
     "execution_count": 7,
     "metadata": {},
     "output_type": "execute_result"
    }
   ],
   "source": [
    "response.status_code"
   ]
  },
  {
   "cell_type": "code",
   "execution_count": 8,
   "id": "844529d5",
   "metadata": {},
   "outputs": [],
   "source": [
    "#Challenge 2"
   ]
  },
  {
   "cell_type": "code",
   "execution_count": 9,
   "id": "d11526c1",
   "metadata": {},
   "outputs": [],
   "source": [
    "data = response.json()"
   ]
  },
  {
   "cell_type": "code",
   "execution_count": 10,
   "id": "c7897093",
   "metadata": {},
   "outputs": [
    {
     "data": {
      "text/plain": [
       "30"
      ]
     },
     "execution_count": 10,
     "metadata": {},
     "output_type": "execute_result"
    }
   ],
   "source": [
    "len(data)"
   ]
  },
  {
   "cell_type": "code",
   "execution_count": 22,
   "id": "ed4c77a2",
   "metadata": {},
   "outputs": [],
   "source": [
    "#Existe un parámetro que me indica los commits desde la fecha señalada\n",
    "params2 = {\"since\": \"2021-06-10\"}"
   ]
  },
  {
   "cell_type": "code",
   "execution_count": 23,
   "id": "84a428b8",
   "metadata": {},
   "outputs": [],
   "source": [
    "response2 = requests.get(url,params2,headers=params)"
   ]
  },
  {
   "cell_type": "code",
   "execution_count": 24,
   "id": "34292af5",
   "metadata": {},
   "outputs": [
    {
     "data": {
      "text/plain": [
       "200"
      ]
     },
     "execution_count": 24,
     "metadata": {},
     "output_type": "execute_result"
    }
   ],
   "source": [
    "response2.status_code"
   ]
  },
  {
   "cell_type": "code",
   "execution_count": 27,
   "id": "59b0179a",
   "metadata": {},
   "outputs": [],
   "source": [
    "data = response2.json()\n",
    "#data[0]"
   ]
  },
  {
   "cell_type": "code",
   "execution_count": 31,
   "id": "2fb80b8b",
   "metadata": {},
   "outputs": [
    {
     "data": {
      "text/plain": [
       "22"
      ]
     },
     "execution_count": 31,
     "metadata": {},
     "output_type": "execute_result"
    }
   ],
   "source": [
    "#Imprimo la longitud de la lista para contar cuantos son\n",
    "len(data)"
   ]
  },
  {
   "cell_type": "markdown",
   "id": "f797a5ec",
   "metadata": {},
   "source": [
    "En total la semana pasada se realizaron 22 commits"
   ]
  }
 ],
 "metadata": {
  "kernelspec": {
   "display_name": "OLAYA1",
   "language": "python",
   "name": "olaya1"
  },
  "language_info": {
   "codemirror_mode": {
    "name": "ipython",
    "version": 3
   },
   "file_extension": ".py",
   "mimetype": "text/x-python",
   "name": "python",
   "nbconvert_exporter": "python",
   "pygments_lexer": "ipython3",
   "version": "3.8.5"
  },
  "toc": {
   "base_numbering": 1,
   "nav_menu": {},
   "number_sections": true,
   "sideBar": true,
   "skip_h1_title": true,
   "title_cell": "Table of Contents",
   "title_sidebar": "Contents",
   "toc_cell": false,
   "toc_position": {
    "height": "calc(100% - 180px)",
    "left": "10px",
    "top": "150px",
    "width": "288px"
   },
   "toc_section_display": true,
   "toc_window_display": true
  }
 },
 "nbformat": 4,
 "nbformat_minor": 5
}
